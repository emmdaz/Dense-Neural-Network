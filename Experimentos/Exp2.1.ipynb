{
 "cells": [
  {
   "cell_type": "code",
   "execution_count": 1,
   "id": "b73bf520-0588-4eb1-b322-e3dd7dbf90b9",
   "metadata": {
    "id": "b73bf520-0588-4eb1-b322-e3dd7dbf90b9"
   },
   "outputs": [
    {
     "name": "stderr",
     "output_type": "stream",
     "text": [
      "2025-09-12 23:41:51.504776: I tensorflow/core/platform/cpu_feature_guard.cc:210] This TensorFlow binary is optimized to use available CPU instructions in performance-critical operations.\n",
      "To enable the following instructions: AVX2 FMA, in other operations, rebuild TensorFlow with the appropriate compiler flags.\n"
     ]
    }
   ],
   "source": [
    "import tensorflow as tf\n",
    "from tensorflow import keras\n",
    "from tensorflow.keras.datasets import mnist\n",
    "from tensorflow.keras.models import Sequential\n",
    "from tensorflow.keras.layers import Dense\n",
    "from tensorflow.keras.optimizers import SGD\n",
    "import numpy as np"
   ]
  },
  {
   "cell_type": "code",
   "execution_count": 2,
   "id": "08b3b0ce-007a-4378-ac2f-c30263b60e93",
   "metadata": {},
   "outputs": [
    {
     "name": "stderr",
     "output_type": "stream",
     "text": [
      "\u001b[34m\u001b[1mwandb\u001b[0m: \u001b[33mWARNING\u001b[0m `wandb.require('core')` is a no-op as it is now the default behavior.\n",
      "\u001b[34m\u001b[1mwandb\u001b[0m: Currently logged in as: \u001b[33memmdaz\u001b[0m (\u001b[33memmdaz-zzz\u001b[0m) to \u001b[32mhttps://api.wandb.ai\u001b[0m. Use \u001b[1m`wandb login --relogin`\u001b[0m to force relogin\n"
     ]
    },
    {
     "data": {
      "text/plain": [
       "True"
      ]
     },
     "execution_count": 2,
     "metadata": {},
     "output_type": "execute_result"
    }
   ],
   "source": [
    "import wandb\n",
    "from wandb.integration.keras import WandbMetricsLogger, WandbModelCheckpoint\n",
    "wandb.require(\"core\")\n",
    "wandb.login()"
   ]
  },
  {
   "cell_type": "code",
   "execution_count": 3,
   "id": "b6987ff7-9d86-454c-b70e-a7fe3b75c8aa",
   "metadata": {},
   "outputs": [
    {
     "data": {
      "text/html": [],
      "text/plain": [
       "<IPython.core.display.HTML object>"
      ]
     },
     "metadata": {},
     "output_type": "display_data"
    },
    {
     "data": {
      "text/html": [
       "Tracking run with wandb version 0.21.4"
      ],
      "text/plain": [
       "<IPython.core.display.HTML object>"
      ]
     },
     "metadata": {},
     "output_type": "display_data"
    },
    {
     "data": {
      "text/html": [
       "Run data is saved locally in <code>/home/emmdzzz/Dense-Neural-Network/wandb/run-20250912_234154-b5b3bcrb</code>"
      ],
      "text/plain": [
       "<IPython.core.display.HTML object>"
      ]
     },
     "metadata": {},
     "output_type": "display_data"
    },
    {
     "data": {
      "text/html": [
       "Syncing run <strong><a href='https://wandb.ai/emmdaz-zzz/Experiments%20Series%201.01/runs/b5b3bcrb' target=\"_blank\">peach-galaxy-10</a></strong> to <a href='https://wandb.ai/emmdaz-zzz/Experiments%20Series%201.01' target=\"_blank\">Weights & Biases</a> (<a href='https://wandb.me/developer-guide' target=\"_blank\">docs</a>)<br>"
      ],
      "text/plain": [
       "<IPython.core.display.HTML object>"
      ]
     },
     "metadata": {},
     "output_type": "display_data"
    },
    {
     "data": {
      "text/html": [
       " View project at <a href='https://wandb.ai/emmdaz-zzz/Experiments%20Series%201.01' target=\"_blank\">https://wandb.ai/emmdaz-zzz/Experiments%20Series%201.01</a>"
      ],
      "text/plain": [
       "<IPython.core.display.HTML object>"
      ]
     },
     "metadata": {},
     "output_type": "display_data"
    },
    {
     "data": {
      "text/html": [
       " View run at <a href='https://wandb.ai/emmdaz-zzz/Experiments%20Series%201.01/runs/b5b3bcrb' target=\"_blank\">https://wandb.ai/emmdaz-zzz/Experiments%20Series%201.01/runs/b5b3bcrb</a>"
      ],
      "text/plain": [
       "<IPython.core.display.HTML object>"
      ]
     },
     "metadata": {},
     "output_type": "display_data"
    },
    {
     "data": {
      "text/html": [
       "<button onClick=\"this.nextSibling.style.display='block';this.style.display='none';\">Display W&B run</button><iframe src='https://wandb.ai/emmdaz-zzz/Experiments%20Series%201.01/runs/b5b3bcrb?jupyter=true' style='border:none;width:100%;height:420px;display:none;'></iframe>"
      ],
      "text/plain": [
       "<wandb.sdk.wandb_run.Run at 0x7abf0daa6270>"
      ]
     },
     "execution_count": 3,
     "metadata": {},
     "output_type": "execute_result"
    }
   ],
   "source": [
    "wandb.init(\n",
    "    project=\"Experiments Series 1.01\",\n",
    "    config={\n",
    "        \"Layer1\": 128,\n",
    "        \"Activation_1\": \"sigmoid\",\n",
    "        \"Dropout1\": \"No dropout\",\n",
    "        \"Layer2\": 256,\n",
    "        \"Activation_2\": \"sigmoid\",\n",
    "        \"Dropout2\": \"No dropout\",\n",
    "        \"Layer3\": 10,\n",
    "        \"Activation_3\": \"softmax\",\n",
    "        \"Dropout3\": \"No dropout\",\n",
    "        \"Optimizer\": \"sgd\",\n",
    "        \"Metric\": \"accuracy\",\n",
    "        \"Epoch\": 30,\n",
    "        \"Batch_size\": 20,\n",
    "        \"Eta\": 0.001,\n",
    "        \"Loss\": \"binary_crossentropy\"\n",
    "    }\n",
    ")"
   ]
  },
  {
   "cell_type": "code",
   "execution_count": 4,
   "id": "61f2acf7-4c0a-4466-a929-02263d1af6ee",
   "metadata": {},
   "outputs": [],
   "source": [
    "config = wandb.config"
   ]
  },
  {
   "cell_type": "code",
   "execution_count": 5,
   "id": "6ce37ae3-b0fd-4204-885b-6655330d8ab6",
   "metadata": {
    "colab": {
     "base_uri": "https://localhost:8080/"
    },
    "id": "6ce37ae3-b0fd-4204-885b-6655330d8ab6",
    "outputId": "c1257f96-794d-470c-a9f1-2792954c58ae"
   },
   "outputs": [],
   "source": [
    "ds=mnist.load_data()"
   ]
  },
  {
   "cell_type": "code",
   "execution_count": 6,
   "id": "a116cc3b-2073-4efd-97be-080dc9cb8fea",
   "metadata": {
    "colab": {
     "base_uri": "https://localhost:8080/"
    },
    "id": "a116cc3b-2073-4efd-97be-080dc9cb8fea",
    "outputId": "708c1f7d-e2c1-4949-c4f6-3be690a1e554"
   },
   "outputs": [
    {
     "name": "stdout",
     "output_type": "stream",
     "text": [
      "(60000, 28, 28) (10000, 28, 28)\n"
     ]
    }
   ],
   "source": [
    "(x_train,y_train),(x_test,y_test)=ds\n",
    "print(x_train.shape,x_test.shape)"
   ]
  },
  {
   "cell_type": "code",
   "execution_count": 7,
   "id": "9ad00afc-9e7c-42ae-9729-690627584999",
   "metadata": {
    "id": "9ad00afc-9e7c-42ae-9729-690627584999"
   },
   "outputs": [],
   "source": [
    "# Se hace al aplanado de las imágenes\n",
    "x_train=x_train.reshape(60000,784)\n",
    "x_test=x_test.reshape(10000,784)\n",
    "\n",
    "# Se modifica el tipo de datos a tipo flotante (para evitar conflictos)\n",
    "x_train = x_train.astype(\"float32\")\n",
    "x_test = x_test.astype(\"float32\")\n",
    "\n",
    "# Se normalizan los datos acorde a la intensidad de los píxeles\n",
    "x_train /= 255.\n",
    "x_test /= 255."
   ]
  },
  {
   "cell_type": "code",
   "execution_count": 8,
   "id": "6e7c3698-fabe-45b7-a395-07b9076b1547",
   "metadata": {
    "id": "6e7c3698-fabe-45b7-a395-07b9076b1547"
   },
   "outputs": [],
   "source": [
    "# Se realiza el one-hot enconding:\n",
    "\n",
    "# Se definen el número de clases que hay en la base de datos\n",
    "classes = config.Layer3\n",
    "\n",
    "# Se realiza la conversión:\n",
    "y_train = keras.utils.to_categorical(y_train,classes)\n",
    "y_test = keras.utils.to_categorical(y_test,classes)"
   ]
  },
  {
   "cell_type": "code",
   "execution_count": 9,
   "id": "d3054feb-2648-44b0-ac66-0d488553ab34",
   "metadata": {
    "id": "d3054feb-2648-44b0-ac66-0d488553ab34"
   },
   "outputs": [],
   "source": [
    "# Se configuran los hiperparámetros del modelo:\n",
    "\n",
    "# Valor del Learning Rate\n",
    "eta = config.Eta\n",
    "eta = float(eta) # Tiene que ser un dato de tipo flotante, pues de lo contrario\n",
    "                 # tiene conflicto\n",
    "\n",
    "# Número de épocas\n",
    "epochs = config.Epoch\n",
    "\n",
    "# Tamaño del mini-batch\n",
    "mini_batch= config.Batch_size"
   ]
  },
  {
   "cell_type": "code",
   "execution_count": 10,
   "id": "21e0f2f4-61d8-491c-b408-6dfcef524511",
   "metadata": {
    "colab": {
     "base_uri": "https://localhost:8080/",
     "height": 313
    },
    "id": "21e0f2f4-61d8-491c-b408-6dfcef524511",
    "outputId": "f0a3d74e-af5b-457e-ca5b-801f61f9b2d6"
   },
   "outputs": [
    {
     "name": "stderr",
     "output_type": "stream",
     "text": [
      "/home/emmdzzz/anaconda3/lib/python3.13/site-packages/keras/src/layers/core/dense.py:93: UserWarning: Do not pass an `input_shape`/`input_dim` argument to a layer. When using Sequential models, prefer using an `Input(shape)` object as the first layer in the model instead.\n",
      "  super().__init__(activity_regularizer=activity_regularizer, **kwargs)\n",
      "2025-09-12 23:41:56.166465: E external/local_xla/xla/stream_executor/cuda/cuda_platform.cc:51] failed call to cuInit: INTERNAL: CUDA error: Failed call to cuInit: CUDA_ERROR_SYSTEM_DRIVER_MISMATCH: system has unsupported display driver / cuda driver combination\n",
      "2025-09-12 23:41:56.166488: I external/local_xla/xla/stream_executor/cuda/cuda_diagnostics.cc:171] verbose logging is disabled. Rerun with verbose logging (usually --v=1 or --vmodule=cuda_diagnostics=1) to get more diagnostic output from this module\n",
      "2025-09-12 23:41:56.166494: I external/local_xla/xla/stream_executor/cuda/cuda_diagnostics.cc:176] retrieving CUDA diagnostic information for host: emma\n",
      "2025-09-12 23:41:56.166497: I external/local_xla/xla/stream_executor/cuda/cuda_diagnostics.cc:183] hostname: emma\n",
      "2025-09-12 23:41:56.166601: I external/local_xla/xla/stream_executor/cuda/cuda_diagnostics.cc:190] libcuda reported version is: 470.256.2\n",
      "2025-09-12 23:41:56.166619: I external/local_xla/xla/stream_executor/cuda/cuda_diagnostics.cc:194] kernel reported version is: 575.64.3\n",
      "2025-09-12 23:41:56.166624: E external/local_xla/xla/stream_executor/cuda/cuda_diagnostics.cc:287] kernel version 575.64.3 does not match DSO version 470.256.2 -- cannot find working devices in this configuration\n"
     ]
    },
    {
     "data": {
      "text/html": [
       "<pre style=\"white-space:pre;overflow-x:auto;line-height:normal;font-family:Menlo,'DejaVu Sans Mono',consolas,'Courier New',monospace\"><span style=\"font-weight: bold\">Model: \"sequential\"</span>\n",
       "</pre>\n"
      ],
      "text/plain": [
       "\u001b[1mModel: \"sequential\"\u001b[0m\n"
      ]
     },
     "metadata": {},
     "output_type": "display_data"
    },
    {
     "data": {
      "text/html": [
       "<pre style=\"white-space:pre;overflow-x:auto;line-height:normal;font-family:Menlo,'DejaVu Sans Mono',consolas,'Courier New',monospace\">┏━━━━━━━━━━━━━━━━━━━━━━━━━━━━━━━━━┳━━━━━━━━━━━━━━━━━━━━━━━━┳━━━━━━━━━━━━━━━┓\n",
       "┃<span style=\"font-weight: bold\"> Layer (type)                    </span>┃<span style=\"font-weight: bold\"> Output Shape           </span>┃<span style=\"font-weight: bold\">       Param # </span>┃\n",
       "┡━━━━━━━━━━━━━━━━━━━━━━━━━━━━━━━━━╇━━━━━━━━━━━━━━━━━━━━━━━━╇━━━━━━━━━━━━━━━┩\n",
       "│ dense (<span style=\"color: #0087ff; text-decoration-color: #0087ff\">Dense</span>)                   │ (<span style=\"color: #00d7ff; text-decoration-color: #00d7ff\">None</span>, <span style=\"color: #00af00; text-decoration-color: #00af00\">128</span>)            │       <span style=\"color: #00af00; text-decoration-color: #00af00\">100,480</span> │\n",
       "├─────────────────────────────────┼────────────────────────┼───────────────┤\n",
       "│ dense_1 (<span style=\"color: #0087ff; text-decoration-color: #0087ff\">Dense</span>)                 │ (<span style=\"color: #00d7ff; text-decoration-color: #00d7ff\">None</span>, <span style=\"color: #00af00; text-decoration-color: #00af00\">256</span>)            │        <span style=\"color: #00af00; text-decoration-color: #00af00\">33,024</span> │\n",
       "├─────────────────────────────────┼────────────────────────┼───────────────┤\n",
       "│ dense_2 (<span style=\"color: #0087ff; text-decoration-color: #0087ff\">Dense</span>)                 │ (<span style=\"color: #00d7ff; text-decoration-color: #00d7ff\">None</span>, <span style=\"color: #00af00; text-decoration-color: #00af00\">10</span>)             │         <span style=\"color: #00af00; text-decoration-color: #00af00\">2,570</span> │\n",
       "└─────────────────────────────────┴────────────────────────┴───────────────┘\n",
       "</pre>\n"
      ],
      "text/plain": [
       "┏━━━━━━━━━━━━━━━━━━━━━━━━━━━━━━━━━┳━━━━━━━━━━━━━━━━━━━━━━━━┳━━━━━━━━━━━━━━━┓\n",
       "┃\u001b[1m \u001b[0m\u001b[1mLayer (type)                   \u001b[0m\u001b[1m \u001b[0m┃\u001b[1m \u001b[0m\u001b[1mOutput Shape          \u001b[0m\u001b[1m \u001b[0m┃\u001b[1m \u001b[0m\u001b[1m      Param #\u001b[0m\u001b[1m \u001b[0m┃\n",
       "┡━━━━━━━━━━━━━━━━━━━━━━━━━━━━━━━━━╇━━━━━━━━━━━━━━━━━━━━━━━━╇━━━━━━━━━━━━━━━┩\n",
       "│ dense (\u001b[38;5;33mDense\u001b[0m)                   │ (\u001b[38;5;45mNone\u001b[0m, \u001b[38;5;34m128\u001b[0m)            │       \u001b[38;5;34m100,480\u001b[0m │\n",
       "├─────────────────────────────────┼────────────────────────┼───────────────┤\n",
       "│ dense_1 (\u001b[38;5;33mDense\u001b[0m)                 │ (\u001b[38;5;45mNone\u001b[0m, \u001b[38;5;34m256\u001b[0m)            │        \u001b[38;5;34m33,024\u001b[0m │\n",
       "├─────────────────────────────────┼────────────────────────┼───────────────┤\n",
       "│ dense_2 (\u001b[38;5;33mDense\u001b[0m)                 │ (\u001b[38;5;45mNone\u001b[0m, \u001b[38;5;34m10\u001b[0m)             │         \u001b[38;5;34m2,570\u001b[0m │\n",
       "└─────────────────────────────────┴────────────────────────┴───────────────┘\n"
      ]
     },
     "metadata": {},
     "output_type": "display_data"
    },
    {
     "data": {
      "text/html": [
       "<pre style=\"white-space:pre;overflow-x:auto;line-height:normal;font-family:Menlo,'DejaVu Sans Mono',consolas,'Courier New',monospace\"><span style=\"font-weight: bold\"> Total params: </span><span style=\"color: #00af00; text-decoration-color: #00af00\">136,074</span> (531.54 KB)\n",
       "</pre>\n"
      ],
      "text/plain": [
       "\u001b[1m Total params: \u001b[0m\u001b[38;5;34m136,074\u001b[0m (531.54 KB)\n"
      ]
     },
     "metadata": {},
     "output_type": "display_data"
    },
    {
     "data": {
      "text/html": [
       "<pre style=\"white-space:pre;overflow-x:auto;line-height:normal;font-family:Menlo,'DejaVu Sans Mono',consolas,'Courier New',monospace\"><span style=\"font-weight: bold\"> Trainable params: </span><span style=\"color: #00af00; text-decoration-color: #00af00\">136,074</span> (531.54 KB)\n",
       "</pre>\n"
      ],
      "text/plain": [
       "\u001b[1m Trainable params: \u001b[0m\u001b[38;5;34m136,074\u001b[0m (531.54 KB)\n"
      ]
     },
     "metadata": {},
     "output_type": "display_data"
    },
    {
     "data": {
      "text/html": [
       "<pre style=\"white-space:pre;overflow-x:auto;line-height:normal;font-family:Menlo,'DejaVu Sans Mono',consolas,'Courier New',monospace\"><span style=\"font-weight: bold\"> Non-trainable params: </span><span style=\"color: #00af00; text-decoration-color: #00af00\">0</span> (0.00 B)\n",
       "</pre>\n"
      ],
      "text/plain": [
       "\u001b[1m Non-trainable params: \u001b[0m\u001b[38;5;34m0\u001b[0m (0.00 B)\n"
      ]
     },
     "metadata": {},
     "output_type": "display_data"
    }
   ],
   "source": [
    "# Se realiza la creación del modelo a como se había definido usando Numpy:\n",
    "model = Sequential([\n",
    "    Dense(config.Layer1, activation = config.Activation_1, input_shape = (784,)),\n",
    "    Dense(config.Layer2, activation = config.Activation_2),\n",
    "    Dense(classes, activation = config.Activation_3)\n",
    "])\n",
    "model.summary()\n",
    "# El modelo es secuencial, se van uniendo neurona por neurona de forma consecutiva"
   ]
  },
  {
   "cell_type": "code",
   "execution_count": 11,
   "id": "b5546149-9f28-46cc-a01f-32957f9d3ec1",
   "metadata": {
    "id": "b5546149-9f28-46cc-a01f-32957f9d3ec1"
   },
   "outputs": [
    {
     "name": "stdout",
     "output_type": "stream",
     "text": [
      "Epoch 1/30\n",
      "\u001b[1m3000/3000\u001b[0m \u001b[32m━━━━━━━━━━━━━━━━━━━━\u001b[0m\u001b[37m\u001b[0m \u001b[1m5s\u001b[0m 2ms/step - accuracy: 0.1255 - loss: 0.3546 - val_accuracy: 0.1136 - val_loss: 0.3228\n",
      "Epoch 2/30\n",
      "\u001b[1m3000/3000\u001b[0m \u001b[32m━━━━━━━━━━━━━━━━━━━━\u001b[0m\u001b[37m\u001b[0m \u001b[1m5s\u001b[0m 2ms/step - accuracy: 0.1556 - loss: 0.3222 - val_accuracy: 0.3050 - val_loss: 0.3202\n",
      "Epoch 3/30\n",
      "\u001b[1m3000/3000\u001b[0m \u001b[32m━━━━━━━━━━━━━━━━━━━━\u001b[0m\u001b[37m\u001b[0m \u001b[1m5s\u001b[0m 2ms/step - accuracy: 0.2665 - loss: 0.3197 - val_accuracy: 0.2478 - val_loss: 0.3174\n",
      "Epoch 4/30\n",
      "\u001b[1m3000/3000\u001b[0m \u001b[32m━━━━━━━━━━━━━━━━━━━━\u001b[0m\u001b[37m\u001b[0m \u001b[1m5s\u001b[0m 2ms/step - accuracy: 0.3194 - loss: 0.3167 - val_accuracy: 0.4481 - val_loss: 0.3138\n",
      "Epoch 5/30\n",
      "\u001b[1m3000/3000\u001b[0m \u001b[32m━━━━━━━━━━━━━━━━━━━━\u001b[0m\u001b[37m\u001b[0m \u001b[1m5s\u001b[0m 2ms/step - accuracy: 0.4338 - loss: 0.3129 - val_accuracy: 0.4732 - val_loss: 0.3091\n",
      "Epoch 6/30\n",
      "\u001b[1m3000/3000\u001b[0m \u001b[32m━━━━━━━━━━━━━━━━━━━━\u001b[0m\u001b[37m\u001b[0m \u001b[1m5s\u001b[0m 2ms/step - accuracy: 0.4862 - loss: 0.3081 - val_accuracy: 0.5384 - val_loss: 0.3030\n",
      "Epoch 7/30\n",
      "\u001b[1m3000/3000\u001b[0m \u001b[32m━━━━━━━━━━━━━━━━━━━━\u001b[0m\u001b[37m\u001b[0m \u001b[1m5s\u001b[0m 2ms/step - accuracy: 0.4967 - loss: 0.3014 - val_accuracy: 0.4949 - val_loss: 0.2949\n",
      "Epoch 8/30\n",
      "\u001b[1m3000/3000\u001b[0m \u001b[32m━━━━━━━━━━━━━━━━━━━━\u001b[0m\u001b[37m\u001b[0m \u001b[1m4s\u001b[0m 1ms/step - accuracy: 0.5308 - loss: 0.2931 - val_accuracy: 0.5234 - val_loss: 0.2844\n",
      "Epoch 9/30\n",
      "\u001b[1m3000/3000\u001b[0m \u001b[32m━━━━━━━━━━━━━━━━━━━━\u001b[0m\u001b[37m\u001b[0m \u001b[1m5s\u001b[0m 2ms/step - accuracy: 0.5465 - loss: 0.2820 - val_accuracy: 0.5480 - val_loss: 0.2715\n",
      "Epoch 10/30\n",
      "\u001b[1m3000/3000\u001b[0m \u001b[32m━━━━━━━━━━━━━━━━━━━━\u001b[0m\u001b[37m\u001b[0m \u001b[1m4s\u001b[0m 1ms/step - accuracy: 0.5730 - loss: 0.2692 - val_accuracy: 0.6256 - val_loss: 0.2572\n",
      "Epoch 11/30\n",
      "\u001b[1m3000/3000\u001b[0m \u001b[32m━━━━━━━━━━━━━━━━━━━━\u001b[0m\u001b[37m\u001b[0m \u001b[1m5s\u001b[0m 2ms/step - accuracy: 0.5978 - loss: 0.2547 - val_accuracy: 0.6108 - val_loss: 0.2426\n",
      "Epoch 12/30\n",
      "\u001b[1m3000/3000\u001b[0m \u001b[32m━━━━━━━━━━━━━━━━━━━━\u001b[0m\u001b[37m\u001b[0m \u001b[1m4s\u001b[0m 1ms/step - accuracy: 0.6204 - loss: 0.2405 - val_accuracy: 0.6595 - val_loss: 0.2289\n",
      "Epoch 13/30\n",
      "\u001b[1m3000/3000\u001b[0m \u001b[32m━━━━━━━━━━━━━━━━━━━━\u001b[0m\u001b[37m\u001b[0m \u001b[1m4s\u001b[0m 1ms/step - accuracy: 0.6516 - loss: 0.2268 - val_accuracy: 0.6772 - val_loss: 0.2165\n",
      "Epoch 14/30\n",
      "\u001b[1m3000/3000\u001b[0m \u001b[32m━━━━━━━━━━━━━━━━━━━━\u001b[0m\u001b[37m\u001b[0m \u001b[1m4s\u001b[0m 1ms/step - accuracy: 0.6692 - loss: 0.2149 - val_accuracy: 0.6983 - val_loss: 0.2056\n",
      "Epoch 15/30\n",
      "\u001b[1m3000/3000\u001b[0m \u001b[32m━━━━━━━━━━━━━━━━━━━━\u001b[0m\u001b[37m\u001b[0m \u001b[1m4s\u001b[0m 1ms/step - accuracy: 0.6888 - loss: 0.2045 - val_accuracy: 0.6928 - val_loss: 0.1959\n",
      "Epoch 16/30\n",
      "\u001b[1m3000/3000\u001b[0m \u001b[32m━━━━━━━━━━━━━━━━━━━━\u001b[0m\u001b[37m\u001b[0m \u001b[1m5s\u001b[0m 2ms/step - accuracy: 0.7009 - loss: 0.1939 - val_accuracy: 0.7170 - val_loss: 0.1873\n",
      "Epoch 17/30\n",
      "\u001b[1m3000/3000\u001b[0m \u001b[32m━━━━━━━━━━━━━━━━━━━━\u001b[0m\u001b[37m\u001b[0m \u001b[1m4s\u001b[0m 1ms/step - accuracy: 0.7118 - loss: 0.1862 - val_accuracy: 0.7399 - val_loss: 0.1796\n",
      "Epoch 18/30\n",
      "\u001b[1m3000/3000\u001b[0m \u001b[32m━━━━━━━━━━━━━━━━━━━━\u001b[0m\u001b[37m\u001b[0m \u001b[1m5s\u001b[0m 2ms/step - accuracy: 0.7310 - loss: 0.1792 - val_accuracy: 0.7444 - val_loss: 0.1729\n",
      "Epoch 19/30\n",
      "\u001b[1m3000/3000\u001b[0m \u001b[32m━━━━━━━━━━━━━━━━━━━━\u001b[0m\u001b[37m\u001b[0m \u001b[1m4s\u001b[0m 1ms/step - accuracy: 0.7439 - loss: 0.1728 - val_accuracy: 0.7491 - val_loss: 0.1667\n",
      "Epoch 20/30\n",
      "\u001b[1m3000/3000\u001b[0m \u001b[32m━━━━━━━━━━━━━━━━━━━━\u001b[0m\u001b[37m\u001b[0m \u001b[1m4s\u001b[0m 1ms/step - accuracy: 0.7514 - loss: 0.1663 - val_accuracy: 0.7703 - val_loss: 0.1609\n",
      "Epoch 21/30\n",
      "\u001b[1m3000/3000\u001b[0m \u001b[32m━━━━━━━━━━━━━━━━━━━━\u001b[0m\u001b[37m\u001b[0m \u001b[1m4s\u001b[0m 1ms/step - accuracy: 0.7658 - loss: 0.1608 - val_accuracy: 0.7853 - val_loss: 0.1556\n",
      "Epoch 22/30\n",
      "\u001b[1m3000/3000\u001b[0m \u001b[32m━━━━━━━━━━━━━━━━━━━━\u001b[0m\u001b[37m\u001b[0m \u001b[1m4s\u001b[0m 1ms/step - accuracy: 0.7807 - loss: 0.1551 - val_accuracy: 0.7871 - val_loss: 0.1505\n",
      "Epoch 23/30\n",
      "\u001b[1m3000/3000\u001b[0m \u001b[32m━━━━━━━━━━━━━━━━━━━━\u001b[0m\u001b[37m\u001b[0m \u001b[1m6s\u001b[0m 2ms/step - accuracy: 0.7842 - loss: 0.1515 - val_accuracy: 0.7943 - val_loss: 0.1458\n",
      "Epoch 24/30\n",
      "\u001b[1m3000/3000\u001b[0m \u001b[32m━━━━━━━━━━━━━━━━━━━━\u001b[0m\u001b[37m\u001b[0m \u001b[1m5s\u001b[0m 2ms/step - accuracy: 0.7938 - loss: 0.1462 - val_accuracy: 0.8028 - val_loss: 0.1412\n",
      "Epoch 25/30\n",
      "\u001b[1m3000/3000\u001b[0m \u001b[32m━━━━━━━━━━━━━━━━━━━━\u001b[0m\u001b[37m\u001b[0m \u001b[1m6s\u001b[0m 2ms/step - accuracy: 0.7991 - loss: 0.1416 - val_accuracy: 0.8161 - val_loss: 0.1369\n",
      "Epoch 26/30\n",
      "\u001b[1m3000/3000\u001b[0m \u001b[32m━━━━━━━━━━━━━━━━━━━━\u001b[0m\u001b[37m\u001b[0m \u001b[1m5s\u001b[0m 2ms/step - accuracy: 0.8115 - loss: 0.1382 - val_accuracy: 0.8182 - val_loss: 0.1328\n",
      "Epoch 27/30\n",
      "\u001b[1m3000/3000\u001b[0m \u001b[32m━━━━━━━━━━━━━━━━━━━━\u001b[0m\u001b[37m\u001b[0m \u001b[1m5s\u001b[0m 1ms/step - accuracy: 0.8172 - loss: 0.1338 - val_accuracy: 0.8250 - val_loss: 0.1290\n",
      "Epoch 28/30\n",
      "\u001b[1m3000/3000\u001b[0m \u001b[32m━━━━━━━━━━━━━━━━━━━━\u001b[0m\u001b[37m\u001b[0m \u001b[1m5s\u001b[0m 2ms/step - accuracy: 0.8243 - loss: 0.1297 - val_accuracy: 0.8308 - val_loss: 0.1254\n",
      "Epoch 29/30\n",
      "\u001b[1m3000/3000\u001b[0m \u001b[32m━━━━━━━━━━━━━━━━━━━━\u001b[0m\u001b[37m\u001b[0m \u001b[1m5s\u001b[0m 2ms/step - accuracy: 0.8310 - loss: 0.1265 - val_accuracy: 0.8381 - val_loss: 0.1219\n",
      "Epoch 30/30\n",
      "\u001b[1m3000/3000\u001b[0m \u001b[32m━━━━━━━━━━━━━━━━━━━━\u001b[0m\u001b[37m\u001b[0m \u001b[1m5s\u001b[0m 2ms/step - accuracy: 0.8359 - loss: 0.1233 - val_accuracy: 0.8416 - val_loss: 0.1188\n"
     ]
    }
   ],
   "source": [
    "model.compile(loss=config.Loss, optimizer = config.Optimizer,\n",
    "              metrics=[config.Metric])\n",
    "\n",
    "history = model.fit(x_train, y_train,\n",
    "                    batch_size = mini_batch,\n",
    "                    epochs = epochs,\n",
    "                    verbose = 1,\n",
    "                    validation_data = (x_test, y_test),\n",
    "                    callbacks=[WandbMetricsLogger(log_freq=5),\n",
    "                               WandbModelCheckpoint(\"models.keras\")]\n",
    "                    )"
   ]
  },
  {
   "cell_type": "code",
   "execution_count": 12,
   "id": "9a9e7217-6e91-406a-8463-5384bf30c7ad",
   "metadata": {},
   "outputs": [
    {
     "data": {
      "text/html": [],
      "text/plain": [
       "<IPython.core.display.HTML object>"
      ]
     },
     "metadata": {},
     "output_type": "display_data"
    },
    {
     "data": {
      "text/html": [
       "<br>    <style><br>        .wandb-row {<br>            display: flex;<br>            flex-direction: row;<br>            flex-wrap: wrap;<br>            justify-content: flex-start;<br>            width: 100%;<br>        }<br>        .wandb-col {<br>            display: flex;<br>            flex-direction: column;<br>            flex-basis: 100%;<br>            flex: 1;<br>            padding: 10px;<br>        }<br>    </style><br><div class=\"wandb-row\"><div class=\"wandb-col\"><h3>Run history:</h3><br/><table class=\"wandb\"><tr><td>batch/accuracy</td><td>▁▂▃▃▄▄▄▄▅▅▅▆▆▆▆▇▇▇▇▇▇▇▇▇▇▇▇▇▇▇██████████</td></tr><tr><td>batch/batch_step</td><td>▁▁▁▁▁▂▂▂▂▂▂▂▂▃▃▃▃▄▄▄▄▄▄▅▅▅▅▅▆▆▆▆▆▇▇▇▇▇██</td></tr><tr><td>batch/learning_rate</td><td>▁▁▁▁▁▁▁▁▁▁▁▁▁▁▁▁▁▁▁▁▁▁▁▁▁▁▁▁▁▁▁▁▁▁▁▁▁▁▁▁</td></tr><tr><td>batch/loss</td><td>███████▇▇▇▇▇▇▇▇▆▆▆▅▅▄▄▄▄▄▄▄▄▃▃▃▃▃▃▂▂▁▁▁▁</td></tr><tr><td>epoch/accuracy</td><td>▁▁▃▃▄▄▅▅▅▅▆▆▆▆▇▇▇▇▇▇▇▇▇███████</td></tr><tr><td>epoch/epoch</td><td>▁▁▁▂▂▂▂▃▃▃▃▄▄▄▄▅▅▅▅▆▆▆▆▇▇▇▇███</td></tr><tr><td>epoch/learning_rate</td><td>▁▁▁▁▁▁▁▁▁▁▁▁▁▁▁▁▁▁▁▁▁▁▁▁▁▁▁▁▁▁</td></tr><tr><td>epoch/loss</td><td>████▇▇▇▇▆▆▅▅▄▄▄▃▃▃▃▂▂▂▂▂▂▁▁▁▁▁</td></tr><tr><td>epoch/val_accuracy</td><td>▁▃▂▄▄▅▅▅▅▆▆▆▆▇▇▇▇▇▇▇▇▇████████</td></tr><tr><td>epoch/val_loss</td><td>█████▇▇▇▆▆▅▅▄▄▄▃▃▃▃▂▂▂▂▂▂▁▁▁▁▁</td></tr></table><br/></div><div class=\"wandb-col\"><h3>Run summary:</h3><br/><table class=\"wandb\"><tr><td>batch/accuracy</td><td>0.83693</td></tr><tr><td>batch/batch_step</td><td>89995</td></tr><tr><td>batch/learning_rate</td><td>0.01</td></tr><tr><td>batch/loss</td><td>0.12244</td></tr><tr><td>epoch/accuracy</td><td>0.83688</td></tr><tr><td>epoch/epoch</td><td>29</td></tr><tr><td>epoch/learning_rate</td><td>0.01</td></tr><tr><td>epoch/loss</td><td>0.12245</td></tr><tr><td>epoch/val_accuracy</td><td>0.8416</td></tr><tr><td>epoch/val_loss</td><td>0.11884</td></tr></table><br/></div></div>"
      ],
      "text/plain": [
       "<IPython.core.display.HTML object>"
      ]
     },
     "metadata": {},
     "output_type": "display_data"
    },
    {
     "data": {
      "text/html": [
       " View run <strong style=\"color:#cdcd00\">peach-galaxy-10</strong> at: <a href='https://wandb.ai/emmdaz-zzz/Experiments%20Series%201.01/runs/b5b3bcrb' target=\"_blank\">https://wandb.ai/emmdaz-zzz/Experiments%20Series%201.01/runs/b5b3bcrb</a><br> View project at: <a href='https://wandb.ai/emmdaz-zzz/Experiments%20Series%201.01' target=\"_blank\">https://wandb.ai/emmdaz-zzz/Experiments%20Series%201.01</a><br>Synced 5 W&B file(s), 0 media file(s), 60 artifact file(s) and 0 other file(s)"
      ],
      "text/plain": [
       "<IPython.core.display.HTML object>"
      ]
     },
     "metadata": {},
     "output_type": "display_data"
    },
    {
     "data": {
      "text/html": [
       "Find logs at: <code>./wandb/run-20250912_234154-b5b3bcrb/logs</code>"
      ],
      "text/plain": [
       "<IPython.core.display.HTML object>"
      ]
     },
     "metadata": {},
     "output_type": "display_data"
    }
   ],
   "source": [
    "wandb.finish()"
   ]
  },
  {
   "cell_type": "code",
   "execution_count": null,
   "id": "d6e80457-6918-4f0d-be5d-a0550e1f5445",
   "metadata": {
    "id": "d6e80457-6918-4f0d-be5d-a0550e1f5445"
   },
   "outputs": [],
   "source": []
  }
 ],
 "metadata": {
  "accelerator": "GPU",
  "colab": {
   "gpuType": "T4",
   "provenance": []
  },
  "kernelspec": {
   "display_name": "Python [conda env:base] *",
   "language": "python",
   "name": "conda-base-py"
  },
  "language_info": {
   "codemirror_mode": {
    "name": "ipython",
    "version": 3
   },
   "file_extension": ".py",
   "mimetype": "text/x-python",
   "name": "python",
   "nbconvert_exporter": "python",
   "pygments_lexer": "ipython3",
   "version": "3.13.5"
  }
 },
 "nbformat": 4,
 "nbformat_minor": 5
}
