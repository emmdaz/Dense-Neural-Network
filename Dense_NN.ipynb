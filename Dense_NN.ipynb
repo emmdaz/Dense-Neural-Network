{
 "cells": [
  {
   "cell_type": "code",
   "execution_count": 2,
   "id": "b73bf520-0588-4eb1-b322-e3dd7dbf90b9",
   "metadata": {
    "id": "b73bf520-0588-4eb1-b322-e3dd7dbf90b9"
   },
   "outputs": [],
   "source": [
    "import tensorflow as tf\n",
    "from tensorflow import keras\n",
    "from tensorflow.keras.datasets import mnist\n",
    "from tensorflow.keras.models import Sequential\n",
    "from tensorflow.keras.layers import Dense\n",
    "from tensorflow.keras.optimizers import SGD\n",
    "import numpy as np"
   ]
  },
  {
   "cell_type": "code",
   "execution_count": 3,
   "id": "08b3b0ce-007a-4378-ac2f-c30263b60e93",
   "metadata": {},
   "outputs": [
    {
     "name": "stderr",
     "output_type": "stream",
     "text": [
      "\u001b[34m\u001b[1mwandb\u001b[0m: \u001b[33mWARNING\u001b[0m `wandb.require('core')` is a no-op as it is now the default behavior.\n",
      "\u001b[34m\u001b[1mwandb\u001b[0m: Currently logged in as: \u001b[33memmdaz\u001b[0m (\u001b[33memmdaz-zzz\u001b[0m) to \u001b[32mhttps://api.wandb.ai\u001b[0m. Use \u001b[1m`wandb login --relogin`\u001b[0m to force relogin\n"
     ]
    },
    {
     "data": {
      "text/plain": [
       "True"
      ]
     },
     "execution_count": 3,
     "metadata": {},
     "output_type": "execute_result"
    }
   ],
   "source": [
    "import wandb\n",
    "from wandb.integration.keras import WandbMetricsLogger, WandbModelCheckpoint\n",
    "wandb.require(\"core\")\n",
    "wandb.login()"
   ]
  },
  {
   "cell_type": "code",
   "execution_count": 42,
   "id": "b6987ff7-9d86-454c-b70e-a7fe3b75c8aa",
   "metadata": {},
   "outputs": [
    {
     "data": {
      "text/html": [],
      "text/plain": [
       "<IPython.core.display.HTML object>"
      ]
     },
     "metadata": {},
     "output_type": "display_data"
    },
    {
     "data": {
      "text/html": [
       "Tracking run with wandb version 0.21.4"
      ],
      "text/plain": [
       "<IPython.core.display.HTML object>"
      ]
     },
     "metadata": {},
     "output_type": "display_data"
    },
    {
     "data": {
      "text/html": [
       "Run data is saved locally in <code>/home/emmdzzz/Dense-Neural-Network/wandb/run-20250912_045433-x4caduyo</code>"
      ],
      "text/plain": [
       "<IPython.core.display.HTML object>"
      ]
     },
     "metadata": {},
     "output_type": "display_data"
    },
    {
     "data": {
      "text/html": [
       "Syncing run <strong><a href='https://wandb.ai/emmdaz-zzz/Experiments%20Series%201.01/runs/x4caduyo' target=\"_blank\">stilted-brook-7</a></strong> to <a href='https://wandb.ai/emmdaz-zzz/Experiments%20Series%201.01' target=\"_blank\">Weights & Biases</a> (<a href='https://wandb.me/developer-guide' target=\"_blank\">docs</a>)<br>"
      ],
      "text/plain": [
       "<IPython.core.display.HTML object>"
      ]
     },
     "metadata": {},
     "output_type": "display_data"
    },
    {
     "data": {
      "text/html": [
       " View project at <a href='https://wandb.ai/emmdaz-zzz/Experiments%20Series%201.01' target=\"_blank\">https://wandb.ai/emmdaz-zzz/Experiments%20Series%201.01</a>"
      ],
      "text/plain": [
       "<IPython.core.display.HTML object>"
      ]
     },
     "metadata": {},
     "output_type": "display_data"
    },
    {
     "data": {
      "text/html": [
       " View run at <a href='https://wandb.ai/emmdaz-zzz/Experiments%20Series%201.01/runs/x4caduyo' target=\"_blank\">https://wandb.ai/emmdaz-zzz/Experiments%20Series%201.01/runs/x4caduyo</a>"
      ],
      "text/plain": [
       "<IPython.core.display.HTML object>"
      ]
     },
     "metadata": {},
     "output_type": "display_data"
    },
    {
     "data": {
      "text/html": [
       "<button onClick=\"this.nextSibling.style.display='block';this.style.display='none';\">Display W&B run</button><iframe src='https://wandb.ai/emmdaz-zzz/Experiments%20Series%201.01/runs/x4caduyo?jupyter=true' style='border:none;width:100%;height:420px;display:none;'></iframe>"
      ],
      "text/plain": [
       "<wandb.sdk.wandb_run.Run at 0x7ef59056fd90>"
      ]
     },
     "execution_count": 42,
     "metadata": {},
     "output_type": "execute_result"
    }
   ],
   "source": [
    "wandb.init(\n",
    "    project=\"Experiments Series 1.01\",\n",
    "    config={\n",
    "        \"Layer1\": 128,\n",
    "        \"Activation_1\": \"sigmoid\",\n",
    "        \"Dropout1\": \"No dropout\",\n",
    "        \"Layer2\": 256,\n",
    "        \"Activation_2\": \"sigmoid\",\n",
    "        \"Dropout2\": \"No dropout\",\n",
    "        \"Layer3\": 10,\n",
    "        \"Activation_3\": \"softmax\",\n",
    "        \"Dropout3\": \"No dropout\",\n",
    "        \"Optimizer\": \"sgd\",\n",
    "        \"Metric\": \"accuracy\",\n",
    "        \"Epoch\": 30,\n",
    "        \"Batch_size\": 20,\n",
    "        \"Eta\": 1e-3,\n",
    "        \"Loss\": \"binary_crossentropy\"\n",
    "    }\n",
    ")"
   ]
  },
  {
   "cell_type": "code",
   "execution_count": 43,
   "id": "61f2acf7-4c0a-4466-a929-02263d1af6ee",
   "metadata": {},
   "outputs": [],
   "source": [
    "config = wandb.config"
   ]
  },
  {
   "cell_type": "code",
   "execution_count": 44,
   "id": "6ce37ae3-b0fd-4204-885b-6655330d8ab6",
   "metadata": {
    "colab": {
     "base_uri": "https://localhost:8080/"
    },
    "id": "6ce37ae3-b0fd-4204-885b-6655330d8ab6",
    "outputId": "c1257f96-794d-470c-a9f1-2792954c58ae"
   },
   "outputs": [],
   "source": [
    "ds=mnist.load_data()"
   ]
  },
  {
   "cell_type": "code",
   "execution_count": 45,
   "id": "a116cc3b-2073-4efd-97be-080dc9cb8fea",
   "metadata": {
    "colab": {
     "base_uri": "https://localhost:8080/"
    },
    "id": "a116cc3b-2073-4efd-97be-080dc9cb8fea",
    "outputId": "708c1f7d-e2c1-4949-c4f6-3be690a1e554"
   },
   "outputs": [
    {
     "name": "stdout",
     "output_type": "stream",
     "text": [
      "(60000, 28, 28) (10000, 28, 28)\n"
     ]
    }
   ],
   "source": [
    "(x_train,y_train),(x_test,y_test)=ds\n",
    "print(x_train.shape,x_test.shape)"
   ]
  },
  {
   "cell_type": "code",
   "execution_count": 46,
   "id": "9ad00afc-9e7c-42ae-9729-690627584999",
   "metadata": {
    "id": "9ad00afc-9e7c-42ae-9729-690627584999"
   },
   "outputs": [],
   "source": [
    "# Se hace al aplanado de las imágenes\n",
    "x_train=x_train.reshape(60000,784)\n",
    "x_test=x_test.reshape(10000,784)\n",
    "\n",
    "# Se modifica el tipo de datos a tipo flotante (para evitar conflictos)\n",
    "x_train = x_train.astype(\"float32\")\n",
    "x_test = x_test.astype(\"float32\")\n",
    "\n",
    "# Se normalizan los datos acorde a la intensidad de los píxeles\n",
    "x_train /= 255.\n",
    "x_test /= 255."
   ]
  },
  {
   "cell_type": "code",
   "execution_count": 47,
   "id": "6e7c3698-fabe-45b7-a395-07b9076b1547",
   "metadata": {
    "id": "6e7c3698-fabe-45b7-a395-07b9076b1547"
   },
   "outputs": [],
   "source": [
    "# Se realiza el one-hot enconding:\n",
    "\n",
    "# Se definen el número de clases que hay en la base de datos\n",
    "classes = config.Layer3\n",
    "\n",
    "# Se realiza la conversión:\n",
    "y_train = keras.utils.to_categorical(y_train,classes)\n",
    "y_test = keras.utils.to_categorical(y_test,classes)"
   ]
  },
  {
   "cell_type": "code",
   "execution_count": 48,
   "id": "d3054feb-2648-44b0-ac66-0d488553ab34",
   "metadata": {
    "id": "d3054feb-2648-44b0-ac66-0d488553ab34"
   },
   "outputs": [],
   "source": [
    "# Se configuran los hiperparámetros del modelo:\n",
    "\n",
    "# Valor del Learning Rate\n",
    "eta = config.Eta\n",
    "eta = float(eta) # Tiene que ser un dato de tipo flotante, pues de lo contrario\n",
    "                 # tiene conflicto\n",
    "\n",
    "# Número de épocas\n",
    "epochs = config.Epoch\n",
    "\n",
    "# Tamaño del mini-batch\n",
    "mini_batch= config.Batch_size"
   ]
  },
  {
   "cell_type": "code",
   "execution_count": 49,
   "id": "21e0f2f4-61d8-491c-b408-6dfcef524511",
   "metadata": {
    "colab": {
     "base_uri": "https://localhost:8080/",
     "height": 313
    },
    "id": "21e0f2f4-61d8-491c-b408-6dfcef524511",
    "outputId": "f0a3d74e-af5b-457e-ca5b-801f61f9b2d6"
   },
   "outputs": [
    {
     "name": "stderr",
     "output_type": "stream",
     "text": [
      "/home/emmdzzz/anaconda3/lib/python3.13/site-packages/keras/src/layers/core/dense.py:93: UserWarning: Do not pass an `input_shape`/`input_dim` argument to a layer. When using Sequential models, prefer using an `Input(shape)` object as the first layer in the model instead.\n",
      "  super().__init__(activity_regularizer=activity_regularizer, **kwargs)\n"
     ]
    },
    {
     "data": {
      "text/html": [
       "<pre style=\"white-space:pre;overflow-x:auto;line-height:normal;font-family:Menlo,'DejaVu Sans Mono',consolas,'Courier New',monospace\"><span style=\"font-weight: bold\">Model: \"sequential_2\"</span>\n",
       "</pre>\n"
      ],
      "text/plain": [
       "\u001b[1mModel: \"sequential_2\"\u001b[0m\n"
      ]
     },
     "metadata": {},
     "output_type": "display_data"
    },
    {
     "data": {
      "text/html": [
       "<pre style=\"white-space:pre;overflow-x:auto;line-height:normal;font-family:Menlo,'DejaVu Sans Mono',consolas,'Courier New',monospace\">┏━━━━━━━━━━━━━━━━━━━━━━━━━━━━━━━━━┳━━━━━━━━━━━━━━━━━━━━━━━━┳━━━━━━━━━━━━━━━┓\n",
       "┃<span style=\"font-weight: bold\"> Layer (type)                    </span>┃<span style=\"font-weight: bold\"> Output Shape           </span>┃<span style=\"font-weight: bold\">       Param # </span>┃\n",
       "┡━━━━━━━━━━━━━━━━━━━━━━━━━━━━━━━━━╇━━━━━━━━━━━━━━━━━━━━━━━━╇━━━━━━━━━━━━━━━┩\n",
       "│ dense_10 (<span style=\"color: #0087ff; text-decoration-color: #0087ff\">Dense</span>)                │ (<span style=\"color: #00d7ff; text-decoration-color: #00d7ff\">None</span>, <span style=\"color: #00af00; text-decoration-color: #00af00\">128</span>)            │       <span style=\"color: #00af00; text-decoration-color: #00af00\">100,480</span> │\n",
       "├─────────────────────────────────┼────────────────────────┼───────────────┤\n",
       "│ dense_11 (<span style=\"color: #0087ff; text-decoration-color: #0087ff\">Dense</span>)                │ (<span style=\"color: #00d7ff; text-decoration-color: #00d7ff\">None</span>, <span style=\"color: #00af00; text-decoration-color: #00af00\">256</span>)            │        <span style=\"color: #00af00; text-decoration-color: #00af00\">33,024</span> │\n",
       "├─────────────────────────────────┼────────────────────────┼───────────────┤\n",
       "│ dense_12 (<span style=\"color: #0087ff; text-decoration-color: #0087ff\">Dense</span>)                │ (<span style=\"color: #00d7ff; text-decoration-color: #00d7ff\">None</span>, <span style=\"color: #00af00; text-decoration-color: #00af00\">10</span>)             │         <span style=\"color: #00af00; text-decoration-color: #00af00\">2,570</span> │\n",
       "└─────────────────────────────────┴────────────────────────┴───────────────┘\n",
       "</pre>\n"
      ],
      "text/plain": [
       "┏━━━━━━━━━━━━━━━━━━━━━━━━━━━━━━━━━┳━━━━━━━━━━━━━━━━━━━━━━━━┳━━━━━━━━━━━━━━━┓\n",
       "┃\u001b[1m \u001b[0m\u001b[1mLayer (type)                   \u001b[0m\u001b[1m \u001b[0m┃\u001b[1m \u001b[0m\u001b[1mOutput Shape          \u001b[0m\u001b[1m \u001b[0m┃\u001b[1m \u001b[0m\u001b[1m      Param #\u001b[0m\u001b[1m \u001b[0m┃\n",
       "┡━━━━━━━━━━━━━━━━━━━━━━━━━━━━━━━━━╇━━━━━━━━━━━━━━━━━━━━━━━━╇━━━━━━━━━━━━━━━┩\n",
       "│ dense_10 (\u001b[38;5;33mDense\u001b[0m)                │ (\u001b[38;5;45mNone\u001b[0m, \u001b[38;5;34m128\u001b[0m)            │       \u001b[38;5;34m100,480\u001b[0m │\n",
       "├─────────────────────────────────┼────────────────────────┼───────────────┤\n",
       "│ dense_11 (\u001b[38;5;33mDense\u001b[0m)                │ (\u001b[38;5;45mNone\u001b[0m, \u001b[38;5;34m256\u001b[0m)            │        \u001b[38;5;34m33,024\u001b[0m │\n",
       "├─────────────────────────────────┼────────────────────────┼───────────────┤\n",
       "│ dense_12 (\u001b[38;5;33mDense\u001b[0m)                │ (\u001b[38;5;45mNone\u001b[0m, \u001b[38;5;34m10\u001b[0m)             │         \u001b[38;5;34m2,570\u001b[0m │\n",
       "└─────────────────────────────────┴────────────────────────┴───────────────┘\n"
      ]
     },
     "metadata": {},
     "output_type": "display_data"
    },
    {
     "data": {
      "text/html": [
       "<pre style=\"white-space:pre;overflow-x:auto;line-height:normal;font-family:Menlo,'DejaVu Sans Mono',consolas,'Courier New',monospace\"><span style=\"font-weight: bold\"> Total params: </span><span style=\"color: #00af00; text-decoration-color: #00af00\">136,074</span> (531.54 KB)\n",
       "</pre>\n"
      ],
      "text/plain": [
       "\u001b[1m Total params: \u001b[0m\u001b[38;5;34m136,074\u001b[0m (531.54 KB)\n"
      ]
     },
     "metadata": {},
     "output_type": "display_data"
    },
    {
     "data": {
      "text/html": [
       "<pre style=\"white-space:pre;overflow-x:auto;line-height:normal;font-family:Menlo,'DejaVu Sans Mono',consolas,'Courier New',monospace\"><span style=\"font-weight: bold\"> Trainable params: </span><span style=\"color: #00af00; text-decoration-color: #00af00\">136,074</span> (531.54 KB)\n",
       "</pre>\n"
      ],
      "text/plain": [
       "\u001b[1m Trainable params: \u001b[0m\u001b[38;5;34m136,074\u001b[0m (531.54 KB)\n"
      ]
     },
     "metadata": {},
     "output_type": "display_data"
    },
    {
     "data": {
      "text/html": [
       "<pre style=\"white-space:pre;overflow-x:auto;line-height:normal;font-family:Menlo,'DejaVu Sans Mono',consolas,'Courier New',monospace\"><span style=\"font-weight: bold\"> Non-trainable params: </span><span style=\"color: #00af00; text-decoration-color: #00af00\">0</span> (0.00 B)\n",
       "</pre>\n"
      ],
      "text/plain": [
       "\u001b[1m Non-trainable params: \u001b[0m\u001b[38;5;34m0\u001b[0m (0.00 B)\n"
      ]
     },
     "metadata": {},
     "output_type": "display_data"
    }
   ],
   "source": [
    "# Se realiza la creación del modelo a como se había definido usando Numpy:\n",
    "model = Sequential([\n",
    "    Dense(config.Layer1, activation = config.Activation_1, input_shape = (784,)),\n",
    "    Dense(config.Layer2, activation = config.Activation_2),\n",
    "    Dense(classes, activation = config.Activation_3)\n",
    "])\n",
    "model.summary()\n",
    "# El modelo es secuencial, se van uniendo neurona por neurona de forma consecutiva"
   ]
  },
  {
   "cell_type": "code",
   "execution_count": 50,
   "id": "b5546149-9f28-46cc-a01f-32957f9d3ec1",
   "metadata": {
    "id": "b5546149-9f28-46cc-a01f-32957f9d3ec1"
   },
   "outputs": [
    {
     "name": "stdout",
     "output_type": "stream",
     "text": [
      "Epoch 1/30\n",
      "\u001b[1m3000/3000\u001b[0m \u001b[32m━━━━━━━━━━━━━━━━━━━━\u001b[0m\u001b[37m\u001b[0m \u001b[1m6s\u001b[0m 2ms/step - accuracy: 0.1114 - loss: 0.3436 - val_accuracy: 0.1135 - val_loss: 0.3230\n",
      "Epoch 2/30\n",
      "\u001b[1m3000/3000\u001b[0m \u001b[32m━━━━━━━━━━━━━━━━━━━━\u001b[0m\u001b[37m\u001b[0m \u001b[1m14s\u001b[0m 4ms/step - accuracy: 0.1532 - loss: 0.3224 - val_accuracy: 0.1178 - val_loss: 0.3203\n",
      "Epoch 3/30\n",
      "\u001b[1m3000/3000\u001b[0m \u001b[32m━━━━━━━━━━━━━━━━━━━━\u001b[0m\u001b[37m\u001b[0m \u001b[1m7s\u001b[0m 2ms/step - accuracy: 0.1934 - loss: 0.3197 - val_accuracy: 0.2228 - val_loss: 0.3173\n",
      "Epoch 4/30\n",
      "\u001b[1m3000/3000\u001b[0m \u001b[32m━━━━━━━━━━━━━━━━━━━━\u001b[0m\u001b[37m\u001b[0m \u001b[1m8s\u001b[0m 3ms/step - accuracy: 0.3465 - loss: 0.3165 - val_accuracy: 0.4736 - val_loss: 0.3136\n",
      "Epoch 5/30\n",
      "\u001b[1m3000/3000\u001b[0m \u001b[32m━━━━━━━━━━━━━━━━━━━━\u001b[0m\u001b[37m\u001b[0m \u001b[1m7s\u001b[0m 2ms/step - accuracy: 0.4467 - loss: 0.3127 - val_accuracy: 0.5625 - val_loss: 0.3089\n",
      "Epoch 6/30\n",
      "\u001b[1m3000/3000\u001b[0m \u001b[32m━━━━━━━━━━━━━━━━━━━━\u001b[0m\u001b[37m\u001b[0m \u001b[1m7s\u001b[0m 2ms/step - accuracy: 0.5500 - loss: 0.3078 - val_accuracy: 0.5586 - val_loss: 0.3027\n",
      "Epoch 7/30\n",
      "\u001b[1m3000/3000\u001b[0m \u001b[32m━━━━━━━━━━━━━━━━━━━━\u001b[0m\u001b[37m\u001b[0m \u001b[1m6s\u001b[0m 2ms/step - accuracy: 0.5857 - loss: 0.3013 - val_accuracy: 0.6095 - val_loss: 0.2945\n",
      "Epoch 8/30\n",
      "\u001b[1m3000/3000\u001b[0m \u001b[32m━━━━━━━━━━━━━━━━━━━━\u001b[0m\u001b[37m\u001b[0m \u001b[1m11s\u001b[0m 4ms/step - accuracy: 0.5979 - loss: 0.2925 - val_accuracy: 0.6323 - val_loss: 0.2839\n",
      "Epoch 9/30\n",
      "\u001b[1m3000/3000\u001b[0m \u001b[32m━━━━━━━━━━━━━━━━━━━━\u001b[0m\u001b[37m\u001b[0m \u001b[1m7s\u001b[0m 2ms/step - accuracy: 0.6273 - loss: 0.2815 - val_accuracy: 0.6514 - val_loss: 0.2706\n",
      "Epoch 10/30\n",
      "\u001b[1m3000/3000\u001b[0m \u001b[32m━━━━━━━━━━━━━━━━━━━━\u001b[0m\u001b[37m\u001b[0m \u001b[1m8s\u001b[0m 3ms/step - accuracy: 0.6418 - loss: 0.2678 - val_accuracy: 0.6731 - val_loss: 0.2553\n",
      "Epoch 11/30\n",
      "\u001b[1m3000/3000\u001b[0m \u001b[32m━━━━━━━━━━━━━━━━━━━━\u001b[0m\u001b[37m\u001b[0m \u001b[1m8s\u001b[0m 3ms/step - accuracy: 0.6611 - loss: 0.2525 - val_accuracy: 0.6773 - val_loss: 0.2391\n",
      "Epoch 12/30\n",
      "\u001b[1m3000/3000\u001b[0m \u001b[32m━━━━━━━━━━━━━━━━━━━━\u001b[0m\u001b[37m\u001b[0m \u001b[1m9s\u001b[0m 3ms/step - accuracy: 0.6756 - loss: 0.2368 - val_accuracy: 0.7065 - val_loss: 0.2235\n",
      "Epoch 13/30\n",
      "\u001b[1m3000/3000\u001b[0m \u001b[32m━━━━━━━━━━━━━━━━━━━━\u001b[0m\u001b[37m\u001b[0m \u001b[1m7s\u001b[0m 2ms/step - accuracy: 0.6933 - loss: 0.2211 - val_accuracy: 0.7179 - val_loss: 0.2097\n",
      "Epoch 14/30\n",
      "\u001b[1m3000/3000\u001b[0m \u001b[32m━━━━━━━━━━━━━━━━━━━━\u001b[0m\u001b[37m\u001b[0m \u001b[1m18s\u001b[0m 6ms/step - accuracy: 0.7070 - loss: 0.2078 - val_accuracy: 0.7336 - val_loss: 0.1978\n",
      "Epoch 15/30\n",
      "\u001b[1m3000/3000\u001b[0m \u001b[32m━━━━━━━━━━━━━━━━━━━━\u001b[0m\u001b[37m\u001b[0m \u001b[1m9s\u001b[0m 3ms/step - accuracy: 0.7234 - loss: 0.1968 - val_accuracy: 0.7434 - val_loss: 0.1877\n",
      "Epoch 16/30\n",
      "\u001b[1m3000/3000\u001b[0m \u001b[32m━━━━━━━━━━━━━━━━━━━━\u001b[0m\u001b[37m\u001b[0m \u001b[1m11s\u001b[0m 4ms/step - accuracy: 0.7388 - loss: 0.1868 - val_accuracy: 0.7535 - val_loss: 0.1790\n",
      "Epoch 17/30\n",
      "\u001b[1m3000/3000\u001b[0m \u001b[32m━━━━━━━━━━━━━━━━━━━━\u001b[0m\u001b[37m\u001b[0m \u001b[1m12s\u001b[0m 4ms/step - accuracy: 0.7484 - loss: 0.1791 - val_accuracy: 0.7615 - val_loss: 0.1713\n",
      "Epoch 18/30\n",
      "\u001b[1m3000/3000\u001b[0m \u001b[32m━━━━━━━━━━━━━━━━━━━━\u001b[0m\u001b[37m\u001b[0m \u001b[1m11s\u001b[0m 4ms/step - accuracy: 0.7642 - loss: 0.1709 - val_accuracy: 0.7768 - val_loss: 0.1643\n",
      "Epoch 19/30\n",
      "\u001b[1m3000/3000\u001b[0m \u001b[32m━━━━━━━━━━━━━━━━━━━━\u001b[0m\u001b[37m\u001b[0m \u001b[1m10s\u001b[0m 3ms/step - accuracy: 0.7745 - loss: 0.1648 - val_accuracy: 0.7898 - val_loss: 0.1580\n",
      "Epoch 20/30\n",
      "\u001b[1m3000/3000\u001b[0m \u001b[32m━━━━━━━━━━━━━━━━━━━━\u001b[0m\u001b[37m\u001b[0m \u001b[1m15s\u001b[0m 5ms/step - accuracy: 0.7846 - loss: 0.1594 - val_accuracy: 0.7981 - val_loss: 0.1521\n",
      "Epoch 21/30\n",
      "\u001b[1m3000/3000\u001b[0m \u001b[32m━━━━━━━━━━━━━━━━━━━━\u001b[0m\u001b[37m\u001b[0m \u001b[1m12s\u001b[0m 4ms/step - accuracy: 0.7954 - loss: 0.1527 - val_accuracy: 0.8075 - val_loss: 0.1467\n",
      "Epoch 22/30\n",
      "\u001b[1m3000/3000\u001b[0m \u001b[32m━━━━━━━━━━━━━━━━━━━━\u001b[0m\u001b[37m\u001b[0m \u001b[1m11s\u001b[0m 4ms/step - accuracy: 0.8079 - loss: 0.1473 - val_accuracy: 0.8134 - val_loss: 0.1417\n",
      "Epoch 23/30\n",
      "\u001b[1m3000/3000\u001b[0m \u001b[32m━━━━━━━━━━━━━━━━━━━━\u001b[0m\u001b[37m\u001b[0m \u001b[1m8s\u001b[0m 3ms/step - accuracy: 0.8114 - loss: 0.1425 - val_accuracy: 0.8223 - val_loss: 0.1371\n",
      "Epoch 24/30\n",
      "\u001b[1m3000/3000\u001b[0m \u001b[32m━━━━━━━━━━━━━━━━━━━━\u001b[0m\u001b[37m\u001b[0m \u001b[1m13s\u001b[0m 4ms/step - accuracy: 0.8172 - loss: 0.1384 - val_accuracy: 0.8264 - val_loss: 0.1328\n",
      "Epoch 25/30\n",
      "\u001b[1m3000/3000\u001b[0m \u001b[32m━━━━━━━━━━━━━━━━━━━━\u001b[0m\u001b[37m\u001b[0m \u001b[1m14s\u001b[0m 5ms/step - accuracy: 0.8242 - loss: 0.1337 - val_accuracy: 0.8371 - val_loss: 0.1289\n",
      "Epoch 26/30\n",
      "\u001b[1m3000/3000\u001b[0m \u001b[32m━━━━━━━━━━━━━━━━━━━━\u001b[0m\u001b[37m\u001b[0m \u001b[1m15s\u001b[0m 5ms/step - accuracy: 0.8300 - loss: 0.1306 - val_accuracy: 0.8395 - val_loss: 0.1252\n",
      "Epoch 27/30\n",
      "\u001b[1m3000/3000\u001b[0m \u001b[32m━━━━━━━━━━━━━━━━━━━━\u001b[0m\u001b[37m\u001b[0m \u001b[1m14s\u001b[0m 5ms/step - accuracy: 0.8324 - loss: 0.1274 - val_accuracy: 0.8430 - val_loss: 0.1218\n",
      "Epoch 28/30\n",
      "\u001b[1m3000/3000\u001b[0m \u001b[32m━━━━━━━━━━━━━━━━━━━━\u001b[0m\u001b[37m\u001b[0m \u001b[1m6s\u001b[0m 2ms/step - accuracy: 0.8405 - loss: 0.1234 - val_accuracy: 0.8460 - val_loss: 0.1187\n",
      "Epoch 29/30\n",
      "\u001b[1m3000/3000\u001b[0m \u001b[32m━━━━━━━━━━━━━━━━━━━━\u001b[0m\u001b[37m\u001b[0m \u001b[1m13s\u001b[0m 4ms/step - accuracy: 0.8411 - loss: 0.1208 - val_accuracy: 0.8520 - val_loss: 0.1159\n",
      "Epoch 30/30\n",
      "\u001b[1m3000/3000\u001b[0m \u001b[32m━━━━━━━━━━━━━━━━━━━━\u001b[0m\u001b[37m\u001b[0m \u001b[1m13s\u001b[0m 4ms/step - accuracy: 0.8462 - loss: 0.1178 - val_accuracy: 0.8555 - val_loss: 0.1132\n"
     ]
    }
   ],
   "source": [
    "model.compile(loss=config.Loss, optimizer = config.Optimizer,\n",
    "              metrics=[config.Metric])\n",
    "\n",
    "history = model.fit(x_train, y_train,\n",
    "                    batch_size = mini_batch,\n",
    "                    epochs = epochs,\n",
    "                    verbose = 1,\n",
    "                    validation_data = (x_test, y_test),\n",
    "                    callbacks=[WandbMetricsLogger(log_freq=5),\n",
    "                               WandbModelCheckpoint(\"models.keras\")]\n",
    "                    )"
   ]
  },
  {
   "cell_type": "code",
   "execution_count": 53,
   "id": "9a9e7217-6e91-406a-8463-5384bf30c7ad",
   "metadata": {},
   "outputs": [],
   "source": [
    "wandb.finish()"
   ]
  },
  {
   "cell_type": "code",
   "execution_count": 52,
   "id": "07f7dbf6-62eb-40e3-b2c8-12047242a232",
   "metadata": {
    "colab": {
     "base_uri": "https://localhost:8080/"
    },
    "id": "07f7dbf6-62eb-40e3-b2c8-12047242a232",
    "outputId": "e227d9ef-51f6-423c-cf14-bac76ef35d6c"
   },
   "outputs": [
    {
     "name": "stdout",
     "output_type": "stream",
     "text": [
      "\u001b[1m313/313\u001b[0m \u001b[32m━━━━━━━━━━━━━━━━━━━━\u001b[0m\u001b[37m\u001b[0m \u001b[1m1s\u001b[0m 3ms/step   \n",
      "Resultado predicho: \n",
      "(array([9]),)\n",
      "Resultado correcto: \n",
      "(array([4]),)\n"
     ]
    }
   ],
   "source": [
    "mod = model.predict(x_test)\n",
    "\n",
    "print(\"Resultado predicho: \")\n",
    "print(np.where(mod[6] == np.max(mod[6])))\n",
    "print(\"Resultado correcto: \")\n",
    "print(np.where(y_test[6] == np.max(y_test[6])))\n"
   ]
  },
  {
   "cell_type": "code",
   "execution_count": null,
   "id": "d6e80457-6918-4f0d-be5d-a0550e1f5445",
   "metadata": {
    "id": "d6e80457-6918-4f0d-be5d-a0550e1f5445"
   },
   "outputs": [],
   "source": []
  }
 ],
 "metadata": {
  "accelerator": "GPU",
  "colab": {
   "gpuType": "T4",
   "provenance": []
  },
  "kernelspec": {
   "display_name": "Python [conda env:base] *",
   "language": "python",
   "name": "conda-base-py"
  },
  "language_info": {
   "codemirror_mode": {
    "name": "ipython",
    "version": 3
   },
   "file_extension": ".py",
   "mimetype": "text/x-python",
   "name": "python",
   "nbconvert_exporter": "python",
   "pygments_lexer": "ipython3",
   "version": "3.13.5"
  }
 },
 "nbformat": 4,
 "nbformat_minor": 5
}
