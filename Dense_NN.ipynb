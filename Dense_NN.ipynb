{
  "cells": [
    {
      "cell_type": "code",
      "execution_count": 1,
      "id": "b73bf520-0588-4eb1-b322-e3dd7dbf90b9",
      "metadata": {
        "id": "b73bf520-0588-4eb1-b322-e3dd7dbf90b9"
      },
      "outputs": [],
      "source": [
        "import tensorflow as tf\n",
        "from tensorflow import keras\n",
        "from tensorflow.keras.datasets import mnist\n",
        "from tensorflow.keras.models import Sequential\n",
        "from tensorflow.keras.layers import Dense\n",
        "from tensorflow.keras.optimizers import SGD\n",
        "import numpy as np"
      ]
    },
    {
      "cell_type": "code",
      "execution_count": 2,
      "id": "6ce37ae3-b0fd-4204-885b-6655330d8ab6",
      "metadata": {
        "colab": {
          "base_uri": "https://localhost:8080/"
        },
        "id": "6ce37ae3-b0fd-4204-885b-6655330d8ab6",
        "outputId": "c1257f96-794d-470c-a9f1-2792954c58ae"
      },
      "outputs": [
        {
          "output_type": "stream",
          "name": "stdout",
          "text": [
            "Downloading data from https://storage.googleapis.com/tensorflow/tf-keras-datasets/mnist.npz\n",
            "\u001b[1m11490434/11490434\u001b[0m \u001b[32m━━━━━━━━━━━━━━━━━━━━\u001b[0m\u001b[37m\u001b[0m \u001b[1m0s\u001b[0m 0us/step\n"
          ]
        }
      ],
      "source": [
        "ds=mnist.load_data()"
      ]
    },
    {
      "cell_type": "code",
      "execution_count": 3,
      "id": "a116cc3b-2073-4efd-97be-080dc9cb8fea",
      "metadata": {
        "colab": {
          "base_uri": "https://localhost:8080/"
        },
        "id": "a116cc3b-2073-4efd-97be-080dc9cb8fea",
        "outputId": "708c1f7d-e2c1-4949-c4f6-3be690a1e554"
      },
      "outputs": [
        {
          "output_type": "stream",
          "name": "stdout",
          "text": [
            "(60000, 28, 28) (10000, 28, 28)\n"
          ]
        }
      ],
      "source": [
        "(x_train,y_train),(x_test,y_test)=ds\n",
        "print(x_train.shape,x_test.shape)"
      ]
    },
    {
      "cell_type": "code",
      "execution_count": 4,
      "id": "9ad00afc-9e7c-42ae-9729-690627584999",
      "metadata": {
        "id": "9ad00afc-9e7c-42ae-9729-690627584999"
      },
      "outputs": [],
      "source": [
        "# Se hace al aplanado de las imágenes\n",
        "x_train=x_train.reshape(60000,784)\n",
        "x_test=x_test.reshape(10000,784)\n",
        "\n",
        "# Se modifica el tipo de datos a tipo flotante (para evitar conflictos)\n",
        "x_train = x_train.astype(\"float32\")\n",
        "x_test = x_test.astype(\"float32\")\n",
        "\n",
        "# Se normalizan los datos acorde a la intensidad de los píxeles\n",
        "x_train /= 255.\n",
        "x_test /= 255."
      ]
    },
    {
      "cell_type": "code",
      "execution_count": 5,
      "id": "6e7c3698-fabe-45b7-a395-07b9076b1547",
      "metadata": {
        "id": "6e7c3698-fabe-45b7-a395-07b9076b1547"
      },
      "outputs": [],
      "source": [
        "# Se realiza el one-hot enconding:\n",
        "\n",
        "# Se definen el número de clases que hay en la base de datos\n",
        "classes = 10\n",
        "\n",
        "# Se realiza la conversión:\n",
        "y_train = keras.utils.to_categorical(y_train,classes)\n",
        "y_test = keras.utils.to_categorical(y_test,classes)"
      ]
    },
    {
      "cell_type": "code",
      "execution_count": 6,
      "id": "d3054feb-2648-44b0-ac66-0d488553ab34",
      "metadata": {
        "id": "d3054feb-2648-44b0-ac66-0d488553ab34"
      },
      "outputs": [],
      "source": [
        "# Se configuran algunos aspectos del modelo:\n",
        "\n",
        "# Número de neuronas de la capa oculta\n",
        "n = 15\n",
        "\n",
        "# Valor del Learning Rate\n",
        "eta = 3.0\n",
        "eta = float(eta) # Tiene que ser un dato de tipo flotante, pues de lo contrario\n",
        "                 # tiene conflicto\n",
        "\n",
        "# Número de épocas\n",
        "epochs = 30\n",
        "\n",
        "# Tamaño del mini-batch\n",
        "mini_batch=10"
      ]
    },
    {
      "cell_type": "code",
      "execution_count": 7,
      "id": "21e0f2f4-61d8-491c-b408-6dfcef524511",
      "metadata": {
        "colab": {
          "base_uri": "https://localhost:8080/",
          "height": 313
        },
        "id": "21e0f2f4-61d8-491c-b408-6dfcef524511",
        "outputId": "f0a3d74e-af5b-457e-ca5b-801f61f9b2d6"
      },
      "outputs": [
        {
          "output_type": "stream",
          "name": "stderr",
          "text": [
            "/usr/local/lib/python3.12/dist-packages/keras/src/layers/core/dense.py:93: UserWarning: Do not pass an `input_shape`/`input_dim` argument to a layer. When using Sequential models, prefer using an `Input(shape)` object as the first layer in the model instead.\n",
            "  super().__init__(activity_regularizer=activity_regularizer, **kwargs)\n"
          ]
        },
        {
          "output_type": "display_data",
          "data": {
            "text/plain": [
              "\u001b[1mModel: \"sequential\"\u001b[0m\n"
            ],
            "text/html": [
              "<pre style=\"white-space:pre;overflow-x:auto;line-height:normal;font-family:Menlo,'DejaVu Sans Mono',consolas,'Courier New',monospace\"><span style=\"font-weight: bold\">Model: \"sequential\"</span>\n",
              "</pre>\n"
            ]
          },
          "metadata": {}
        },
        {
          "output_type": "display_data",
          "data": {
            "text/plain": [
              "┏━━━━━━━━━━━━━━━━━━━━━━━━━━━━━━━━━┳━━━━━━━━━━━━━━━━━━━━━━━━┳━━━━━━━━━━━━━━━┓\n",
              "┃\u001b[1m \u001b[0m\u001b[1mLayer (type)                   \u001b[0m\u001b[1m \u001b[0m┃\u001b[1m \u001b[0m\u001b[1mOutput Shape          \u001b[0m\u001b[1m \u001b[0m┃\u001b[1m \u001b[0m\u001b[1m      Param #\u001b[0m\u001b[1m \u001b[0m┃\n",
              "┡━━━━━━━━━━━━━━━━━━━━━━━━━━━━━━━━━╇━━━━━━━━━━━━━━━━━━━━━━━━╇━━━━━━━━━━━━━━━┩\n",
              "│ dense (\u001b[38;5;33mDense\u001b[0m)                   │ (\u001b[38;5;45mNone\u001b[0m, \u001b[38;5;34m15\u001b[0m)             │        \u001b[38;5;34m11,775\u001b[0m │\n",
              "├─────────────────────────────────┼────────────────────────┼───────────────┤\n",
              "│ dense_1 (\u001b[38;5;33mDense\u001b[0m)                 │ (\u001b[38;5;45mNone\u001b[0m, \u001b[38;5;34m10\u001b[0m)             │           \u001b[38;5;34m160\u001b[0m │\n",
              "├─────────────────────────────────┼────────────────────────┼───────────────┤\n",
              "│ dense_2 (\u001b[38;5;33mDense\u001b[0m)                 │ (\u001b[38;5;45mNone\u001b[0m, \u001b[38;5;34m15\u001b[0m)             │           \u001b[38;5;34m165\u001b[0m │\n",
              "├─────────────────────────────────┼────────────────────────┼───────────────┤\n",
              "│ dense_3 (\u001b[38;5;33mDense\u001b[0m)                 │ (\u001b[38;5;45mNone\u001b[0m, \u001b[38;5;34m10\u001b[0m)             │           \u001b[38;5;34m160\u001b[0m │\n",
              "└─────────────────────────────────┴────────────────────────┴───────────────┘\n"
            ],
            "text/html": [
              "<pre style=\"white-space:pre;overflow-x:auto;line-height:normal;font-family:Menlo,'DejaVu Sans Mono',consolas,'Courier New',monospace\">┏━━━━━━━━━━━━━━━━━━━━━━━━━━━━━━━━━┳━━━━━━━━━━━━━━━━━━━━━━━━┳━━━━━━━━━━━━━━━┓\n",
              "┃<span style=\"font-weight: bold\"> Layer (type)                    </span>┃<span style=\"font-weight: bold\"> Output Shape           </span>┃<span style=\"font-weight: bold\">       Param # </span>┃\n",
              "┡━━━━━━━━━━━━━━━━━━━━━━━━━━━━━━━━━╇━━━━━━━━━━━━━━━━━━━━━━━━╇━━━━━━━━━━━━━━━┩\n",
              "│ dense (<span style=\"color: #0087ff; text-decoration-color: #0087ff\">Dense</span>)                   │ (<span style=\"color: #00d7ff; text-decoration-color: #00d7ff\">None</span>, <span style=\"color: #00af00; text-decoration-color: #00af00\">15</span>)             │        <span style=\"color: #00af00; text-decoration-color: #00af00\">11,775</span> │\n",
              "├─────────────────────────────────┼────────────────────────┼───────────────┤\n",
              "│ dense_1 (<span style=\"color: #0087ff; text-decoration-color: #0087ff\">Dense</span>)                 │ (<span style=\"color: #00d7ff; text-decoration-color: #00d7ff\">None</span>, <span style=\"color: #00af00; text-decoration-color: #00af00\">10</span>)             │           <span style=\"color: #00af00; text-decoration-color: #00af00\">160</span> │\n",
              "├─────────────────────────────────┼────────────────────────┼───────────────┤\n",
              "│ dense_2 (<span style=\"color: #0087ff; text-decoration-color: #0087ff\">Dense</span>)                 │ (<span style=\"color: #00d7ff; text-decoration-color: #00d7ff\">None</span>, <span style=\"color: #00af00; text-decoration-color: #00af00\">15</span>)             │           <span style=\"color: #00af00; text-decoration-color: #00af00\">165</span> │\n",
              "├─────────────────────────────────┼────────────────────────┼───────────────┤\n",
              "│ dense_3 (<span style=\"color: #0087ff; text-decoration-color: #0087ff\">Dense</span>)                 │ (<span style=\"color: #00d7ff; text-decoration-color: #00d7ff\">None</span>, <span style=\"color: #00af00; text-decoration-color: #00af00\">10</span>)             │           <span style=\"color: #00af00; text-decoration-color: #00af00\">160</span> │\n",
              "└─────────────────────────────────┴────────────────────────┴───────────────┘\n",
              "</pre>\n"
            ]
          },
          "metadata": {}
        },
        {
          "output_type": "display_data",
          "data": {
            "text/plain": [
              "\u001b[1m Total params: \u001b[0m\u001b[38;5;34m12,260\u001b[0m (47.89 KB)\n"
            ],
            "text/html": [
              "<pre style=\"white-space:pre;overflow-x:auto;line-height:normal;font-family:Menlo,'DejaVu Sans Mono',consolas,'Courier New',monospace\"><span style=\"font-weight: bold\"> Total params: </span><span style=\"color: #00af00; text-decoration-color: #00af00\">12,260</span> (47.89 KB)\n",
              "</pre>\n"
            ]
          },
          "metadata": {}
        },
        {
          "output_type": "display_data",
          "data": {
            "text/plain": [
              "\u001b[1m Trainable params: \u001b[0m\u001b[38;5;34m12,260\u001b[0m (47.89 KB)\n"
            ],
            "text/html": [
              "<pre style=\"white-space:pre;overflow-x:auto;line-height:normal;font-family:Menlo,'DejaVu Sans Mono',consolas,'Courier New',monospace\"><span style=\"font-weight: bold\"> Trainable params: </span><span style=\"color: #00af00; text-decoration-color: #00af00\">12,260</span> (47.89 KB)\n",
              "</pre>\n"
            ]
          },
          "metadata": {}
        },
        {
          "output_type": "display_data",
          "data": {
            "text/plain": [
              "\u001b[1m Non-trainable params: \u001b[0m\u001b[38;5;34m0\u001b[0m (0.00 B)\n"
            ],
            "text/html": [
              "<pre style=\"white-space:pre;overflow-x:auto;line-height:normal;font-family:Menlo,'DejaVu Sans Mono',consolas,'Courier New',monospace\"><span style=\"font-weight: bold\"> Non-trainable params: </span><span style=\"color: #00af00; text-decoration-color: #00af00\">0</span> (0.00 B)\n",
              "</pre>\n"
            ]
          },
          "metadata": {}
        }
      ],
      "source": [
        "# Se realiza la creación del modelo a como se había definido usando Numpy:\n",
        "model = Sequential([\n",
        "    Dense(n, activation='sigmoid', input_shape=(784,)),\n",
        "    Dense(classes, activation='sigmoid')\n",
        "])\n",
        "# El modelo es secuencial, se van uniendo neurona por neurona de forma consecutiva"
      ]
    },
    {
      "cell_type": "markdown",
      "id": "dc866f1f-9eba-485b-babd-80611ff602fd",
      "metadata": {
        "id": "dc866f1f-9eba-485b-babd-80611ff602fd"
      },
      "source": [
        "Se creó un modelo con una capa oculta de 15 neuronas y una capa de salida de 10 neuronas, con las cuales se busca clasificar a las entradas (las imagenes aplanadas de los diez dígitos escritos a mano)."
      ]
    },
    {
      "cell_type": "code",
      "execution_count": 8,
      "id": "b5546149-9f28-46cc-a01f-32957f9d3ec1",
      "metadata": {
        "id": "b5546149-9f28-46cc-a01f-32957f9d3ec1"
      },
      "outputs": [],
      "source": [
        "model.compile(loss='binary_crossentropy',optimizer=SGD(learning_rate=eta),\n",
        "              metrics=['accuracy'])\n"
      ]
    },
    {
      "cell_type": "code",
      "execution_count": 9,
      "id": "19cfd138-9993-49ca-bdd6-e14a7e9de76b",
      "metadata": {
        "colab": {
          "base_uri": "https://localhost:8080/"
        },
        "id": "19cfd138-9993-49ca-bdd6-e14a7e9de76b",
        "outputId": "14e81234-7460-43bc-da63-e0484acbc879"
      },
      "outputs": [
        {
          "output_type": "stream",
          "name": "stdout",
          "text": [
            "Epoch 1/30\n",
            "\u001b[1m6000/6000\u001b[0m \u001b[32m━━━━━━━━━━━━━━━━━━━━\u001b[0m\u001b[37m\u001b[0m \u001b[1m18s\u001b[0m 3ms/step - accuracy: 0.5261 - loss: 0.2041 - val_accuracy: 0.8977 - val_loss: 0.0647\n",
            "Epoch 2/30\n",
            "\u001b[1m6000/6000\u001b[0m \u001b[32m━━━━━━━━━━━━━━━━━━━━\u001b[0m\u001b[37m\u001b[0m \u001b[1m15s\u001b[0m 3ms/step - accuracy: 0.9042 - loss: 0.0615 - val_accuracy: 0.9174 - val_loss: 0.0528\n",
            "Epoch 3/30\n",
            "\u001b[1m6000/6000\u001b[0m \u001b[32m━━━━━━━━━━━━━━━━━━━━\u001b[0m\u001b[37m\u001b[0m \u001b[1m15s\u001b[0m 2ms/step - accuracy: 0.9192 - loss: 0.0510 - val_accuracy: 0.9252 - val_loss: 0.0470\n",
            "Epoch 4/30\n",
            "\u001b[1m6000/6000\u001b[0m \u001b[32m━━━━━━━━━━━━━━━━━━━━\u001b[0m\u001b[37m\u001b[0m \u001b[1m22s\u001b[0m 3ms/step - accuracy: 0.9255 - loss: 0.0466 - val_accuracy: 0.9300 - val_loss: 0.0451\n",
            "Epoch 5/30\n",
            "\u001b[1m6000/6000\u001b[0m \u001b[32m━━━━━━━━━━━━━━━━━━━━\u001b[0m\u001b[37m\u001b[0m \u001b[1m15s\u001b[0m 2ms/step - accuracy: 0.9338 - loss: 0.0431 - val_accuracy: 0.9265 - val_loss: 0.0468\n",
            "Epoch 6/30\n",
            "\u001b[1m6000/6000\u001b[0m \u001b[32m━━━━━━━━━━━━━━━━━━━━\u001b[0m\u001b[37m\u001b[0m \u001b[1m15s\u001b[0m 2ms/step - accuracy: 0.9342 - loss: 0.0415 - val_accuracy: 0.9127 - val_loss: 0.0537\n",
            "Epoch 7/30\n",
            "\u001b[1m6000/6000\u001b[0m \u001b[32m━━━━━━━━━━━━━━━━━━━━\u001b[0m\u001b[37m\u001b[0m \u001b[1m21s\u001b[0m 3ms/step - accuracy: 0.9364 - loss: 0.0393 - val_accuracy: 0.9313 - val_loss: 0.0425\n",
            "Epoch 8/30\n",
            "\u001b[1m6000/6000\u001b[0m \u001b[32m━━━━━━━━━━━━━━━━━━━━\u001b[0m\u001b[37m\u001b[0m \u001b[1m15s\u001b[0m 2ms/step - accuracy: 0.9378 - loss: 0.0387 - val_accuracy: 0.9354 - val_loss: 0.0390\n",
            "Epoch 9/30\n",
            "\u001b[1m6000/6000\u001b[0m \u001b[32m━━━━━━━━━━━━━━━━━━━━\u001b[0m\u001b[37m\u001b[0m \u001b[1m15s\u001b[0m 2ms/step - accuracy: 0.9403 - loss: 0.0381 - val_accuracy: 0.9385 - val_loss: 0.0386\n",
            "Epoch 10/30\n",
            "\u001b[1m6000/6000\u001b[0m \u001b[32m━━━━━━━━━━━━━━━━━━━━\u001b[0m\u001b[37m\u001b[0m \u001b[1m15s\u001b[0m 3ms/step - accuracy: 0.9418 - loss: 0.0364 - val_accuracy: 0.9380 - val_loss: 0.0401\n",
            "Epoch 11/30\n",
            "\u001b[1m6000/6000\u001b[0m \u001b[32m━━━━━━━━━━━━━━━━━━━━\u001b[0m\u001b[37m\u001b[0m \u001b[1m15s\u001b[0m 2ms/step - accuracy: 0.9427 - loss: 0.0356 - val_accuracy: 0.9329 - val_loss: 0.0423\n",
            "Epoch 12/30\n",
            "\u001b[1m6000/6000\u001b[0m \u001b[32m━━━━━━━━━━━━━━━━━━━━\u001b[0m\u001b[37m\u001b[0m \u001b[1m21s\u001b[0m 3ms/step - accuracy: 0.9440 - loss: 0.0352 - val_accuracy: 0.9389 - val_loss: 0.0387\n",
            "Epoch 13/30\n",
            "\u001b[1m6000/6000\u001b[0m \u001b[32m━━━━━━━━━━━━━━━━━━━━\u001b[0m\u001b[37m\u001b[0m \u001b[1m20s\u001b[0m 2ms/step - accuracy: 0.9443 - loss: 0.0347 - val_accuracy: 0.9379 - val_loss: 0.0410\n",
            "Epoch 14/30\n",
            "\u001b[1m6000/6000\u001b[0m \u001b[32m━━━━━━━━━━━━━━━━━━━━\u001b[0m\u001b[37m\u001b[0m \u001b[1m15s\u001b[0m 3ms/step - accuracy: 0.9456 - loss: 0.0333 - val_accuracy: 0.9399 - val_loss: 0.0382\n",
            "Epoch 15/30\n",
            "\u001b[1m6000/6000\u001b[0m \u001b[32m━━━━━━━━━━━━━━━━━━━━\u001b[0m\u001b[37m\u001b[0m \u001b[1m20s\u001b[0m 2ms/step - accuracy: 0.9470 - loss: 0.0328 - val_accuracy: 0.9429 - val_loss: 0.0383\n",
            "Epoch 16/30\n",
            "\u001b[1m6000/6000\u001b[0m \u001b[32m━━━━━━━━━━━━━━━━━━━━\u001b[0m\u001b[37m\u001b[0m \u001b[1m16s\u001b[0m 3ms/step - accuracy: 0.9432 - loss: 0.0344 - val_accuracy: 0.9423 - val_loss: 0.0382\n",
            "Epoch 17/30\n",
            "\u001b[1m6000/6000\u001b[0m \u001b[32m━━━━━━━━━━━━━━━━━━━━\u001b[0m\u001b[37m\u001b[0m \u001b[1m16s\u001b[0m 3ms/step - accuracy: 0.9480 - loss: 0.0327 - val_accuracy: 0.9393 - val_loss: 0.0397\n",
            "Epoch 18/30\n",
            "\u001b[1m6000/6000\u001b[0m \u001b[32m━━━━━━━━━━━━━━━━━━━━\u001b[0m\u001b[37m\u001b[0m \u001b[1m19s\u001b[0m 2ms/step - accuracy: 0.9487 - loss: 0.0318 - val_accuracy: 0.9432 - val_loss: 0.0379\n",
            "Epoch 19/30\n",
            "\u001b[1m6000/6000\u001b[0m \u001b[32m━━━━━━━━━━━━━━━━━━━━\u001b[0m\u001b[37m\u001b[0m \u001b[1m21s\u001b[0m 2ms/step - accuracy: 0.9470 - loss: 0.0324 - val_accuracy: 0.9369 - val_loss: 0.0380\n",
            "Epoch 20/30\n",
            "\u001b[1m6000/6000\u001b[0m \u001b[32m━━━━━━━━━━━━━━━━━━━━\u001b[0m\u001b[37m\u001b[0m \u001b[1m15s\u001b[0m 2ms/step - accuracy: 0.9494 - loss: 0.0320 - val_accuracy: 0.9387 - val_loss: 0.0383\n",
            "Epoch 21/30\n",
            "\u001b[1m6000/6000\u001b[0m \u001b[32m━━━━━━━━━━━━━━━━━━━━\u001b[0m\u001b[37m\u001b[0m \u001b[1m21s\u001b[0m 2ms/step - accuracy: 0.9495 - loss: 0.0312 - val_accuracy: 0.9356 - val_loss: 0.0407\n",
            "Epoch 22/30\n",
            "\u001b[1m6000/6000\u001b[0m \u001b[32m━━━━━━━━━━━━━━━━━━━━\u001b[0m\u001b[37m\u001b[0m \u001b[1m15s\u001b[0m 2ms/step - accuracy: 0.9470 - loss: 0.0319 - val_accuracy: 0.9405 - val_loss: 0.0366\n",
            "Epoch 23/30\n",
            "\u001b[1m6000/6000\u001b[0m \u001b[32m━━━━━━━━━━━━━━━━━━━━\u001b[0m\u001b[37m\u001b[0m \u001b[1m16s\u001b[0m 3ms/step - accuracy: 0.9496 - loss: 0.0306 - val_accuracy: 0.9392 - val_loss: 0.0388\n",
            "Epoch 24/30\n",
            "\u001b[1m6000/6000\u001b[0m \u001b[32m━━━━━━━━━━━━━━━━━━━━\u001b[0m\u001b[37m\u001b[0m \u001b[1m16s\u001b[0m 3ms/step - accuracy: 0.9506 - loss: 0.0297 - val_accuracy: 0.9372 - val_loss: 0.0395\n",
            "Epoch 25/30\n",
            "\u001b[1m6000/6000\u001b[0m \u001b[32m━━━━━━━━━━━━━━━━━━━━\u001b[0m\u001b[37m\u001b[0m \u001b[1m15s\u001b[0m 2ms/step - accuracy: 0.9533 - loss: 0.0290 - val_accuracy: 0.9380 - val_loss: 0.0403\n",
            "Epoch 26/30\n",
            "\u001b[1m6000/6000\u001b[0m \u001b[32m━━━━━━━━━━━━━━━━━━━━\u001b[0m\u001b[37m\u001b[0m \u001b[1m21s\u001b[0m 3ms/step - accuracy: 0.9510 - loss: 0.0294 - val_accuracy: 0.9334 - val_loss: 0.0422\n",
            "Epoch 27/30\n",
            "\u001b[1m6000/6000\u001b[0m \u001b[32m━━━━━━━━━━━━━━━━━━━━\u001b[0m\u001b[37m\u001b[0m \u001b[1m20s\u001b[0m 3ms/step - accuracy: 0.9519 - loss: 0.0293 - val_accuracy: 0.9395 - val_loss: 0.0393\n",
            "Epoch 28/30\n",
            "\u001b[1m6000/6000\u001b[0m \u001b[32m━━━━━━━━━━━━━━━━━━━━\u001b[0m\u001b[37m\u001b[0m \u001b[1m16s\u001b[0m 3ms/step - accuracy: 0.9537 - loss: 0.0287 - val_accuracy: 0.9398 - val_loss: 0.0388\n",
            "Epoch 29/30\n",
            "\u001b[1m6000/6000\u001b[0m \u001b[32m━━━━━━━━━━━━━━━━━━━━\u001b[0m\u001b[37m\u001b[0m \u001b[1m15s\u001b[0m 2ms/step - accuracy: 0.9518 - loss: 0.0294 - val_accuracy: 0.9353 - val_loss: 0.0422\n",
            "Epoch 30/30\n",
            "\u001b[1m6000/6000\u001b[0m \u001b[32m━━━━━━━━━━━━━━━━━━━━\u001b[0m\u001b[37m\u001b[0m \u001b[1m15s\u001b[0m 2ms/step - accuracy: 0.9535 - loss: 0.0288 - val_accuracy: 0.9393 - val_loss: 0.0391\n"
          ]
        }
      ],
      "source": [
        "history = model.fit(x_train, y_train,\n",
        "                    batch_size = mini_batch,\n",
        "                    epochs = epochs,\n",
        "                    verbose = 1,\n",
        "                    validation_data = (x_test, y_test)\n",
        "                    )"
      ]
    },
    {
      "cell_type": "code",
      "execution_count": 10,
      "id": "07f7dbf6-62eb-40e3-b2c8-12047242a232",
      "metadata": {
        "colab": {
          "base_uri": "https://localhost:8080/"
        },
        "id": "07f7dbf6-62eb-40e3-b2c8-12047242a232",
        "outputId": "e227d9ef-51f6-423c-cf14-bac76ef35d6c"
      },
      "outputs": [
        {
          "output_type": "stream",
          "name": "stdout",
          "text": [
            "\u001b[1m313/313\u001b[0m \u001b[32m━━━━━━━━━━━━━━━━━━━━\u001b[0m\u001b[37m\u001b[0m \u001b[1m1s\u001b[0m 2ms/step\n",
            "Resultado predicho: \n",
            "(array([4]),)\n",
            "Resultado correcto: \n",
            "(array([4]),)\n"
          ]
        }
      ],
      "source": [
        "mod = model.predict(x_test)\n",
        "\n",
        "print(\"Resultado predicho: \")\n",
        "print(np.where(mod[6] == np.max(mod[6])))\n",
        "print(\"Resultado correcto: \")\n",
        "print(np.where(y_test[6] == np.max(y_test[6])))\n"
      ]
    },
    {
      "cell_type": "code",
      "execution_count": 10,
      "id": "d6e80457-6918-4f0d-be5d-a0550e1f5445",
      "metadata": {
        "id": "d6e80457-6918-4f0d-be5d-a0550e1f5445"
      },
      "outputs": [],
      "source": []
    }
  ],
  "metadata": {
    "kernelspec": {
      "display_name": "Python [conda env:base] *",
      "language": "python",
      "name": "conda-base-py"
    },
    "language_info": {
      "codemirror_mode": {
        "name": "ipython",
        "version": 3
      },
      "file_extension": ".py",
      "mimetype": "text/x-python",
      "name": "python",
      "nbconvert_exporter": "python",
      "pygments_lexer": "ipython3",
      "version": "3.13.5"
    },
    "colab": {
      "provenance": [],
      "gpuType": "T4"
    },
    "accelerator": "GPU"
  },
  "nbformat": 4,
  "nbformat_minor": 5
}